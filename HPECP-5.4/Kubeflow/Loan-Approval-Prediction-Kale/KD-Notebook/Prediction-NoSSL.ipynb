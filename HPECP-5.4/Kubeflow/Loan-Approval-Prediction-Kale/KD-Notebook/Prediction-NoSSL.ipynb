{
 "cells": [
  {
   "cell_type": "markdown",
   "metadata": {
    "tags": []
   },
   "source": [
    "# Prediction"
   ]
  },
  {
   "cell_type": "code",
   "execution_count": null,
   "metadata": {},
   "outputs": [],
   "source": [
    "import requests, json, getpass"
   ]
  },
  {
   "cell_type": "markdown",
   "metadata": {
    "tags": []
   },
   "source": [
    "## Creating KFP Client"
   ]
  },
  {
   "cell_type": "code",
   "execution_count": null,
   "metadata": {},
   "outputs": [],
   "source": [
    "from ezmllib.kubeflow.ezkfp import KfSession\n",
    "K = KfSession()\n",
    "client=K.kf_client()"
   ]
  },
  {
   "cell_type": "markdown",
   "metadata": {
    "tags": []
   },
   "source": [
    "## Update below variables as per your environment."
   ]
  },
  {
   "cell_type": "code",
   "execution_count": null,
   "metadata": {},
   "outputs": [],
   "source": [
    "NAMESPACE = \"terry-mlops\"\n",
    "SELDON_DEPLOYMENT_NAME = \"model-\" + \"loan-approval-prediction-kd\""
   ]
  },
  {
   "cell_type": "code",
   "execution_count": null,
   "metadata": {},
   "outputs": [],
   "source": [
    "KUBEFLOW_URL = K.url.replace('/pipeline', '')\n",
    "PREDICTION_URL = \"{}/seldon/{}/{}/api/v1.0/predictions\".format(KUBEFLOW_URL,NAMESPACE,SELDON_DEPLOYMENT_NAME)"
   ]
  },
  {
   "cell_type": "markdown",
   "metadata": {
    "tags": []
   },
   "source": [
    "## Reading Session Cookie"
   ]
  },
  {
   "cell_type": "code",
   "execution_count": null,
   "metadata": {},
   "outputs": [],
   "source": [
    "user_kf_file = \"/home/\" + getpass.getuser() + \"/.kubeflow/kf.json\"\n",
    "session_cookie = \"\"\n",
    "with open(user_kf_file) as fp:\n",
    "    datajson = json.load(fp)\n",
    "    session_cookie = datajson['session']"
   ]
  },
  {
   "cell_type": "code",
   "execution_count": null,
   "metadata": {},
   "outputs": [],
   "source": [
    "cookies = {\n",
    "    'authservice_session': session_cookie.replace('authservice_session=', '')\n",
    "}\n",
    "headers = {\n",
    "    'Accept': 'application/json',\n",
    "    'Content-Type': 'application/json'\n",
    "}\n",
    "\n",
    "Approved = {'Dependents': 0.0,\n",
    " 'LoanAmount': 105000.0,\n",
    " 'Loan_Amount_Term': 360.0,\n",
    " 'Credit_History': 1.0,\n",
    " 'Property_Area': 2.0,\n",
    " 'Credit_History_Income_Sum': 5550331.91998864,\n",
    " 'Dependents_LoanAmount_Sum': 72780000.0,\n",
    " 'Dependents_EMI_mean': 1121.6651819119277,\n",
    " 'Loan_Amount_Term_per_Total_Income': 0.06154898273209095,\n",
    " 'EMI_per_Loan_Amount_Term': 2.4498217625000005,\n",
    " 'EMI_per_LoanAmount': 0.008399388900000002,\n",
    " 'Property_Area_LoanAmount_per_Total_Income_mean': 23.36319041854885,\n",
    " 'Loan_Amount_Term_Bins': 1.0,\n",
    " 'Total_Income_Bins': 2.0,\n",
    " 'LoanAmount_per_Total_Income_Bins': 1.0,\n",
    " 'Gender_Male': 1.0,\n",
    " 'Married_Yes': 0.0,\n",
    " 'Education_Not Graduate': 0.0,\n",
    " 'Self_Employed_Yes': 0.0\n",
    "}\n",
    "\n",
    "\n",
    "\n",
    "Declined = {'Dependents': 0.0,\n",
    " 'LoanAmount': 74000.0,\n",
    " 'Loan_Amount_Term': 360.0,\n",
    " 'Credit_History': 1.0,\n",
    " 'Property_Area': 2.0,\n",
    " 'Credit_History_Income_Sum': 5550331.91998864,\n",
    " 'Dependents_LoanAmount_Sum': 72780000.0,\n",
    " 'Dependents_EMI_mean': 1121.6651819119277,\n",
    " 'Loan_Amount_Term_per_Total_Income': 0.09130103981739791,\n",
    " 'EMI_per_Loan_Amount_Term': 1.7265410516666668,\n",
    " 'EMI_per_LoanAmount': 0.0083993889,\n",
    " 'Property_Area_LoanAmount_per_Total_Income_mean': 23.36319041854885,\n",
    " 'Loan_Amount_Term_Bins': 1.0,\n",
    " 'Total_Income_Bins': 1.0,\n",
    " 'LoanAmount_per_Total_Income_Bins': 1.0,\n",
    " 'Gender_Male': 1.0,\n",
    " 'Married_Yes': 0.0,\n",
    " 'Education_Not Graduate': 0.0,\n",
    " 'Self_Employed_Yes': 0.0}"
   ]
  },
  {
   "cell_type": "markdown",
   "metadata": {
    "tags": []
   },
   "source": [
    "# Approved"
   ]
  },
  {
   "cell_type": "code",
   "execution_count": null,
   "metadata": {},
   "outputs": [],
   "source": [
    "json_request = json.dumps({\"data\":{\"names\": list(Approved.keys()), \"ndarray\":[list(Approved.values())]}})\n",
    "response = requests.post(PREDICTION_URL, headers=headers, cookies=cookies, data=json_request)\n",
    "output = response.json()[\"data\"][\"ndarray\"][0]\n",
    "print(\"Prediction: {}\\nProbability: {:.2f}\".format(output[\"Loan_Status\"],output[\"probability\"]))"
   ]
  },
  {
   "cell_type": "markdown",
   "metadata": {
    "tags": []
   },
   "source": [
    "# Declined"
   ]
  },
  {
   "cell_type": "code",
   "execution_count": null,
   "metadata": {},
   "outputs": [],
   "source": [
    "json_request = json.dumps({\"data\":{\"names\": list(Declined.keys()), \"ndarray\":[list(Declined.values())]}})\n",
    "response = requests.post(PREDICTION_URL, headers=headers, cookies=cookies, data=json_request)\n",
    "output = response.json()[\"data\"][\"ndarray\"][0]\n",
    "print(\"Prediction: {}\\nProbability: {:.2f}\".format(output[\"Loan_Status\"],output[\"probability\"]))"
   ]
  }
 ],
 "metadata": {
  "kernelspec": {
   "display_name": "Python 3",
   "language": "python",
   "name": "python3"
  },
  "kubeflow_notebook": {
   "autosnapshot": false,
   "docker_image": "devsds/kubeflow-kale:latest",
   "experiment": {
    "id": "new",
    "name": "testing-loan-approval"
   },
   "experiment_name": "testing-loan-approval",
   "katib_metadata": {
    "algorithm": {
     "algorithmName": "grid"
    },
    "maxFailedTrialCount": 3,
    "maxTrialCount": 12,
    "objective": {
     "objectiveMetricName": "",
     "type": "minimize"
    },
    "parallelTrialCount": 3,
    "parameters": []
   },
   "katib_run": false,
   "pipeline_description": "",
   "pipeline_name": "loan-approval-prediction",
   "snapshot_volumes": false,
   "steps_defaults": [],
   "volume_access_mode": "rwm",
   "volumes": []
  },
  "language_info": {
   "codemirror_mode": {
    "name": "ipython",
    "version": 3
   },
   "file_extension": ".py",
   "mimetype": "text/x-python",
   "name": "python",
   "nbconvert_exporter": "python",
   "pygments_lexer": "ipython3",
   "version": "3.8.5"
  }
 },
 "nbformat": 4,
 "nbformat_minor": 4
}

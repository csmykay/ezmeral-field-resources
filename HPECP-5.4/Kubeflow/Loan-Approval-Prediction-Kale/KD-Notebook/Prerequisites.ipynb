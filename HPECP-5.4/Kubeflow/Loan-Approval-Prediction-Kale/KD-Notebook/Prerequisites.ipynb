{
 "cells": [
  {
   "cell_type": "markdown",
   "metadata": {},
   "source": [
    "# Kale extension in Kubedirector notebook\n",
    "\n",
    "> Kale lets you deploy Jupyter Notebooks that run on your laptop or on the cloud to Kubeflow Pipelines, without requiring any of the Kubeflow SDK boilerplate. You can define pipelines just by annotating Notebook’s code cells and clicking a deployment button in the Jupyter UI. Kale will take care of converting the Notebook to a valid Kubeflow Pipelines deployment, taking care of resolving data dependencies and managing the pipeline’s lifecycle.\n",
    "\n",
    "More information to read about it and  [here](https://medium.com/kubeflow/automating-jupyter-notebook-deployments-to-kubeflow-pipelines-with-kale-a4ede38bea1f)."
   ]
  },
  {
   "cell_type": "markdown",
   "metadata": {},
   "source": [
    "## How to use it\n",
    "\n",
    "### Prerequisites\n",
    "\n",
    "Before enabling Kale extension you need to execute all cells below. If your Kubeflow url starts with a secured 'https', please contact your site administrator to upload the SSL cert into the notebook and pass its path into the prompt when you execute `KfSession()`. Also, ensure that `print(client.list_pipelines())` returns non empty array of pipelines."
   ]
  },
  {
   "cell_type": "code",
   "execution_count": null,
   "metadata": {},
   "outputs": [],
   "source": [
    "from ezmllib.kubeconfig.ezkubeconfig import set_kubeconfig\n",
    "set_kubeconfig()"
   ]
  },
  {
   "cell_type": "markdown",
   "metadata": {
    "tags": []
   },
   "source": [
    "### Loading MLFlow Environment Variables"
   ]
  },
  {
   "cell_type": "code",
   "execution_count": null,
   "metadata": {},
   "outputs": [],
   "source": [
    "%loadMlflow"
   ]
  },
  {
   "cell_type": "code",
   "execution_count": null,
   "metadata": {},
   "outputs": [],
   "source": [
    "from ezmllib.kubeflow.ezkfp import KfSession\n",
    "K = KfSession()\n",
    "client=K.kf_client()"
   ]
  },
  {
   "cell_type": "code",
   "execution_count": null,
   "metadata": {},
   "outputs": [],
   "source": [
    "# List the current kubeflow pipelines\n",
    "print(client.list_pipelines())"
   ]
  },
  {
   "cell_type": "markdown",
   "metadata": {},
   "source": [
    "### Enabling Kale extensions\n",
    "\n",
    "After completing prerequisites, you can enable Kale extension in such way:\n",
    "\n",
    "![enable kale extension](images/enable-kale.png)\n",
    "\n",
    "### Description\n",
    "\n",
    "Example of Kale extension layout:\n",
    "\n",
    "![kale layout](images/kale-layout.png)\n",
    "\n",
    "In the `Pipeline Metadata` section you can define name of experiment and pipeline, description.\n",
    "\n",
    "In the `Run` section you can enable Katib feature for this pipeline and setup  appropriate hyperparameters and etc. via special button.\n",
    "\n",
    "Click on `Advanced Settings` in order to open this section. Here you can set a docker image, which will be used for all steps of current pipeline. Currently Rok snapshot feature is not supported. But you can manually create or use exiting volume for this pipeline.\n",
    "\n",
    "### Edit cell\n",
    "\n",
    "In order to edit cell, click on pencil icon at the top right corner of the cell:\n",
    "\n",
    "![edit cell](images/edit-cell.png)\n",
    "\n",
    "After that you can edit information about this cell for Kale:\n",
    "\n",
    "![cell metadata](images/cell-metadata.png)\n",
    "\n",
    "## Further information\n",
    "\n",
    "More information about this extension you can find [here](https://github.com/kubeflow-kale/kale).\n"
   ]
  }
 ],
 "metadata": {
  "kernelspec": {
   "display_name": "Python 3",
   "language": "python",
   "name": "python3"
  },
  "kubeflow_notebook": {
   "autosnapshot": false,
   "docker_image": "bluedata/kd-notebook@sha256:8743876bbec3b853f39d56f39e6da52ab9d66a5fcb868370c42e9ec9ea944f0f",
   "experiment": {
    "id": "",
    "name": ""
   },
   "experiment_name": "",
   "katib_metadata": {
    "algorithm": {
     "algorithmName": "grid"
    },
    "maxFailedTrialCount": 3,
    "maxTrialCount": 12,
    "objective": {
     "objectiveMetricName": "",
     "type": "minimize"
    },
    "parallelTrialCount": 3,
    "parameters": []
   },
   "katib_run": false,
   "pipeline_description": "",
   "pipeline_name": "",
   "snapshot_volumes": false,
   "steps_defaults": [],
   "volume_access_mode": "rwm",
   "volumes": []
  },
  "language_info": {
   "codemirror_mode": {
    "name": "ipython",
    "version": 3
   },
   "file_extension": ".py",
   "mimetype": "text/x-python",
   "name": "python",
   "nbconvert_exporter": "python",
   "pygments_lexer": "ipython3",
   "version": "3.8.5"
  }
 },
 "nbformat": 4,
 "nbformat_minor": 5
}

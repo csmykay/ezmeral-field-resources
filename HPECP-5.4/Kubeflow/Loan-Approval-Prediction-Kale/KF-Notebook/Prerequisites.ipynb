{
 "cells": [
  {
   "cell_type": "markdown",
   "metadata": {},
   "source": [
    "### Enabling Kale extensions\n",
    "\n",
    "After completing prerequisites, you can enable Kale extension in such way:\n",
    "\n",
    "![enable kale extension](images/enable-kale.png)\n",
    "\n",
    "### Description\n",
    "\n",
    "Example of Kale extension layout:\n",
    "\n",
    "![kale layout](images/kale-layout.png)\n",
    "\n",
    "In the `Pipeline Metadata` section you can define name of experiment and pipeline, description.\n",
    "\n",
    "In the `Run` section you can enable Katib feature for this pipeline and setup  appropriate hyperparameters and etc. via special button.\n",
    "\n",
    "Click on `Advanced Settings` in order to open this section. Here you can set a docker image, which will be used for all steps of current pipeline. Currently Rok snapshot feature is not supported. But you can manually create or use exiting volume for this pipeline.\n",
    "\n",
    "### Edit cell\n",
    "\n",
    "In order to edit cell, click on pencil icon at the top right corner of the cell:\n",
    "\n",
    "![edit cell](images/edit-cell.png)\n",
    "\n",
    "After that you can edit information about this cell for Kale:\n",
    "\n",
    "![cell metadata](images/cell-metadata.png)\n",
    "\n",
    "## Further information\n",
    "\n",
    "More information about this extension you can find [here](https://github.com/kubeflow-kale/kale).\n"
   ]
  }
 ],
 "metadata": {
  "kernelspec": {
   "display_name": "Python 3",
   "language": "python",
   "name": "python3"
  },
  "kubeflow_notebook": {
   "autosnapshot": false,
   "docker_image": "bluedata/kd-notebook@sha256:8743876bbec3b853f39d56f39e6da52ab9d66a5fcb868370c42e9ec9ea944f0f",
   "experiment": {
    "id": "",
    "name": ""
   },
   "experiment_name": "",
   "katib_metadata": {
    "algorithm": {
     "algorithmName": "grid"
    },
    "maxFailedTrialCount": 3,
    "maxTrialCount": 12,
    "objective": {
     "objectiveMetricName": "",
     "type": "minimize"
    },
    "parallelTrialCount": 3,
    "parameters": []
   },
   "katib_run": false,
   "pipeline_description": "",
   "pipeline_name": "",
   "snapshot_volumes": false,
   "steps_defaults": [],
   "volume_access_mode": "rwm",
   "volumes": []
  },
  "language_info": {
   "codemirror_mode": {
    "name": "ipython",
    "version": 3
   },
   "file_extension": ".py",
   "mimetype": "text/x-python",
   "name": "python",
   "nbconvert_exporter": "python",
   "pygments_lexer": "ipython3",
   "version": "3.6.9"
  }
 },
 "nbformat": 4,
 "nbformat_minor": 5
}
